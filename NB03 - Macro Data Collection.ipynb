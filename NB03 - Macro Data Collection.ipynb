{
 "cells": [
  {
   "cell_type": "code",
   "execution_count": 10,
   "metadata": {},
   "outputs": [],
   "source": [
    "from fredapi import Fred\n",
    "import pandas as pd\n",
    "import os\n",
    "from dotenv import load_dotenv"
   ]
  },
  {
   "cell_type": "code",
   "execution_count": 11,
   "metadata": {},
   "outputs": [],
   "source": [
    "load_dotenv()\n",
    "fred = Fred(api_key=os.getenv(\"FRED_API_KEY\"))\n",
    "\n",
    "start_date = '2014-12-01'"
   ]
  },
  {
   "cell_type": "code",
   "execution_count": 12,
   "metadata": {},
   "outputs": [],
   "source": [
    "# 1. Unemployment Rate (Monthly)\n",
    "unemployment = fred.get_series('UNRATE', observation_start=start_date)\n",
    "\n",
    "# 2. CPI (Monthly), compute Inflation MoM\n",
    "cpi = fred.get_series('CPIAUCSL', observation_start=start_date)\n",
    "inflation_mom = cpi.pct_change() * 100\n",
    "\n",
    "# 3. GDP (Quarterly), interpolate to Monthly and compute MoM growth\n",
    "gdp = fred.get_series('GDP', observation_start=start_date)\n",
    "gdp_monthly = gdp.resample('MS').interpolate(method='linear')\n",
    "gdp_mom = gdp_monthly.pct_change() * 100\n",
    "\n",
    "# --- Combine into DataFrame ---\n",
    "df = pd.DataFrame({\n",
    "    'Unemployment_Rate': unemployment,\n",
    "    'Inflation_MoM': inflation_mom,\n",
    "    'GDP_Growth_MoM': gdp_mom\n",
    "}).dropna()\n",
    "\n",
    "df.to_csv(\"./data/macro_timeseries.csv\")"
   ]
  }
 ],
 "metadata": {
  "kernelspec": {
   "display_name": "Python 3",
   "language": "python",
   "name": "python3"
  },
  "language_info": {
   "codemirror_mode": {
    "name": "ipython",
    "version": 3
   },
   "file_extension": ".py",
   "mimetype": "text/x-python",
   "name": "python",
   "nbconvert_exporter": "python",
   "pygments_lexer": "ipython3",
   "version": "3.13.0"
  }
 },
 "nbformat": 4,
 "nbformat_minor": 2
}
