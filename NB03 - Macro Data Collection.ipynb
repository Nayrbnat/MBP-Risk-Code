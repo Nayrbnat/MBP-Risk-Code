{
 "cells": [
  {
   "cell_type": "code",
   "execution_count": 10,
   "metadata": {},
   "outputs": [
    {
     "ename": "ModuleNotFoundError",
     "evalue": "No module named 'fredapi'",
     "output_type": "error",
     "traceback": [
      "\u001b[1;31m---------------------------------------------------------------------------\u001b[0m",
      "\u001b[1;31mModuleNotFoundError\u001b[0m                       Traceback (most recent call last)",
      "Cell \u001b[1;32mIn[1], line 1\u001b[0m\n\u001b[1;32m----> 1\u001b[0m \u001b[38;5;28;01mfrom\u001b[39;00m \u001b[38;5;21;01mfredapi\u001b[39;00m \u001b[38;5;28;01mimport\u001b[39;00m Fred\n\u001b[0;32m      2\u001b[0m \u001b[38;5;28;01mimport\u001b[39;00m \u001b[38;5;21;01mpandas\u001b[39;00m \u001b[38;5;28;01mas\u001b[39;00m \u001b[38;5;21;01mpd\u001b[39;00m\n\u001b[0;32m      3\u001b[0m \u001b[38;5;28;01mimport\u001b[39;00m \u001b[38;5;21;01mos\u001b[39;00m\n",
      "\u001b[1;31mModuleNotFoundError\u001b[0m: No module named 'fredapi'"
     ]
    }
   ],
   "source": [
    "from fredapi import Fred\n",
    "import pandas as pd\n",
    "import os\n",
    "from dotenv import load_dotenv"
   ]
  },
  {
   "cell_type": "code",
   "execution_count": 11,
   "metadata": {},
   "outputs": [],
   "source": [
    "load_dotenv()\n",
    "fred = Fred(api_key=os.getenv(\"FRED_API_KEY\"))\n",
    "\n",
    "start_date = '2014-12-01'"
   ]
  },
  {
   "cell_type": "code",
   "execution_count": 12,
   "metadata": {},
   "outputs": [],
   "source": [
    "# 1. Unemployment Rate (Monthly)\n",
    "unemployment = fred.get_series('UNRATE', observation_start=start_date)\n",
    "\n",
    "# 2. CPI (Monthly), compute Inflation MoM\n",
    "cpi = fred.get_series('CPIAUCSL', observation_start=start_date)\n",
    "inflation_mom = cpi.pct_change() * 100\n",
    "\n",
    "# 3. GDP (Quarterly), interpolate to Monthly and compute MoM growth\n",
    "gdp = fred.get_series('GDP', observation_start=start_date)\n",
    "gdp_monthly = gdp.resample('MS').interpolate(method='linear')\n",
    "gdp_mom = gdp_monthly.pct_change() * 100\n",
    "\n",
    "# --- Combine into DataFrame ---\n",
    "df = pd.DataFrame({\n",
    "    'Unemployment_Rate': unemployment,\n",
    "    'Inflation_MoM': inflation_mom,\n",
    "    'GDP_Growth_MoM': gdp_mom\n",
    "}).dropna()\n",
    "\n",
    "df.to_csv(\"./data/macro_timeseries.csv\")"
   ]
  }
 ],
 "metadata": {
  "kernelspec": {
   "display_name": "base",
   "language": "python",
   "name": "python3"
  },
  "language_info": {
   "codemirror_mode": {
    "name": "ipython",
    "version": 3
   },
   "file_extension": ".py",
   "mimetype": "text/x-python",
   "name": "python",
   "nbconvert_exporter": "python",
   "pygments_lexer": "ipython3",
   "version": "3.11.5"
  }
 },
 "nbformat": 4,
 "nbformat_minor": 2
}
