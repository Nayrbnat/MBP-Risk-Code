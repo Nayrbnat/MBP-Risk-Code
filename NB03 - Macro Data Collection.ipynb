{
 "cells": [
  {
   "cell_type": "code",
   "execution_count": 31,
   "metadata": {},
   "outputs": [],
   "source": [
    "from fredapi import Fred\n",
    "import pandas as pd\n",
    "import os\n",
    "from dotenv import load_dotenv"
   ]
  },
  {
   "cell_type": "code",
   "execution_count": 32,
   "metadata": {},
   "outputs": [
    {
     "ename": "ValueError",
     "evalue": "You need to set a valid API key. You can set it in 3 ways:\npass the string with api_key, or set api_key_file to a\nfile with the api key in the first line, or set the\nenvironment variable 'FRED_API_KEY' to the value of your\napi key. You can sign up for a free api key on the Fred\nwebsite at http://research.stlouisfed.org/fred2/",
     "output_type": "error",
     "traceback": [
      "\u001b[1;31m---------------------------------------------------------------------------\u001b[0m",
      "\u001b[1;31mValueError\u001b[0m                                Traceback (most recent call last)",
      "Cell \u001b[1;32mIn[32], line 2\u001b[0m\n\u001b[0;32m      1\u001b[0m load_dotenv()\n\u001b[1;32m----> 2\u001b[0m fred \u001b[38;5;241m=\u001b[39m \u001b[43mFred\u001b[49m\u001b[43m(\u001b[49m\u001b[43mapi_key\u001b[49m\u001b[38;5;241;43m=\u001b[39;49m\u001b[43mos\u001b[49m\u001b[38;5;241;43m.\u001b[39;49m\u001b[43mgetenv\u001b[49m\u001b[43m(\u001b[49m\u001b[38;5;124;43m\"\u001b[39;49m\u001b[38;5;124;43mFRED_API_KEY\u001b[39;49m\u001b[38;5;124;43m\"\u001b[39;49m\u001b[43m)\u001b[49m\u001b[43m)\u001b[49m\n",
      "File \u001b[1;32mc:\\Users\\essal\\AppData\\Local\\Programs\\Python\\Python313\\Lib\\site-packages\\fredapi\\fred.py:59\u001b[0m, in \u001b[0;36mFred.__init__\u001b[1;34m(self, api_key, api_key_file, proxies)\u001b[0m\n\u001b[0;32m     57\u001b[0m \u001b[38;5;28;01mif\u001b[39;00m \u001b[38;5;28mself\u001b[39m\u001b[38;5;241m.\u001b[39mapi_key \u001b[38;5;129;01mis\u001b[39;00m \u001b[38;5;28;01mNone\u001b[39;00m:\n\u001b[0;32m     58\u001b[0m     \u001b[38;5;28;01mimport\u001b[39;00m \u001b[38;5;21;01mtextwrap\u001b[39;00m\n\u001b[1;32m---> 59\u001b[0m     \u001b[38;5;28;01mraise\u001b[39;00m \u001b[38;5;167;01mValueError\u001b[39;00m(textwrap\u001b[38;5;241m.\u001b[39mdedent(\u001b[38;5;124m\"\"\"\u001b[39m\u001b[38;5;130;01m\\\u001b[39;00m\n\u001b[0;32m     60\u001b[0m \u001b[38;5;124m            You need to set a valid API key. You can set it in 3 ways:\u001b[39m\n\u001b[0;32m     61\u001b[0m \u001b[38;5;124m            pass the string with api_key, or set api_key_file to a\u001b[39m\n\u001b[0;32m     62\u001b[0m \u001b[38;5;124m            file with the api key in the first line, or set the\u001b[39m\n\u001b[0;32m     63\u001b[0m \u001b[38;5;124m            environment variable \u001b[39m\u001b[38;5;124m'\u001b[39m\u001b[38;5;124mFRED_API_KEY\u001b[39m\u001b[38;5;124m'\u001b[39m\u001b[38;5;124m to the value of your\u001b[39m\n\u001b[0;32m     64\u001b[0m \u001b[38;5;124m            api key. You can sign up for a free api key on the Fred\u001b[39m\n\u001b[0;32m     65\u001b[0m \u001b[38;5;124m            website at http://research.stlouisfed.org/fred2/\u001b[39m\u001b[38;5;124m\"\"\"\u001b[39m))\n\u001b[0;32m     67\u001b[0m \u001b[38;5;28;01mif\u001b[39;00m \u001b[38;5;129;01mnot\u001b[39;00m proxies:\n\u001b[0;32m     68\u001b[0m     http_proxy, https_proxy \u001b[38;5;241m=\u001b[39m os\u001b[38;5;241m.\u001b[39mgetenv(\u001b[38;5;124m'\u001b[39m\u001b[38;5;124mHTTP_PROXY\u001b[39m\u001b[38;5;124m'\u001b[39m), os\u001b[38;5;241m.\u001b[39mgetenv(\u001b[38;5;124m'\u001b[39m\u001b[38;5;124mHTTPS_PROXY\u001b[39m\u001b[38;5;124m'\u001b[39m)\n",
      "\u001b[1;31mValueError\u001b[0m: You need to set a valid API key. You can set it in 3 ways:\npass the string with api_key, or set api_key_file to a\nfile with the api key in the first line, or set the\nenvironment variable 'FRED_API_KEY' to the value of your\napi key. You can sign up for a free api key on the Fred\nwebsite at http://research.stlouisfed.org/fred2/"
     ]
    }
   ],
   "source": [
    "load_dotenv()\n",
    "fred = Fred(api_key=os.getenv(\"FRED_API_KEY\"))"
   ]
  },
  {
   "cell_type": "code",
   "execution_count": null,
   "metadata": {},
   "outputs": [
    {
     "name": "stdout",
     "output_type": "stream",
     "text": [
      "Loading .env from: c:\\Users\\essal\\MBP-Risk-Code\\.env\n",
      "Loaded key: None\n"
     ]
    }
   ],
   "source": [
    "from dotenv import load_dotenv, find_dotenv\n",
    "import os\n",
    "\n",
    "# Load and print full path to .env\n",
    "env_path = find_dotenv()\n",
    "print(\"Loading .env from:\", env_path)\n",
    "load_dotenv(env_path)\n",
    "\n",
    "# Check if key is actually loaded\n",
    "fred_key = os.getenv(\"FRED_API_KEY\")\n",
    "print(\"Loaded key:\", fred_key)  # Should print the actual key"
   ]
  }
 ],
 "metadata": {
  "kernelspec": {
   "display_name": "Python 3",
   "language": "python",
   "name": "python3"
  },
  "language_info": {
   "codemirror_mode": {
    "name": "ipython",
    "version": 3
   },
   "file_extension": ".py",
   "mimetype": "text/x-python",
   "name": "python",
   "nbconvert_exporter": "python",
   "pygments_lexer": "ipython3",
   "version": "3.13.0"
  }
 },
 "nbformat": 4,
 "nbformat_minor": 2
}
